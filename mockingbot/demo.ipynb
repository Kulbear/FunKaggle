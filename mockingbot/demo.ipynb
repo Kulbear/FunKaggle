{
 "cells": [
  {
   "cell_type": "code",
   "execution_count": 1,
   "metadata": {
    "collapsed": true
   },
   "outputs": [],
   "source": [
    "import pandas as pd\n",
    "import numpy as np\n",
    "import random\n",
    "\n",
    "from tabulate import tabulate\n",
    "\n",
    "from sklearn import linear_model, svm, tree\n",
    "from sklearn import preprocessing\n",
    "from sklearn.metrics import mean_squared_error\n",
    "from sklearn.model_selection import ShuffleSplit\n",
    "from sklearn.ensemble import RandomForestRegressor, GradientBoostingRegressor\n",
    "from sklearn.neural_network import MLPRegressor"
   ]
  },
  {
   "cell_type": "markdown",
   "metadata": {},
   "source": [
    "## Building some mock data"
   ]
  },
  {
   "cell_type": "code",
   "execution_count": 2,
   "metadata": {
    "collapsed": true
   },
   "outputs": [],
   "source": [
    "# Pre-define\n",
    "device = ['iPhone', 'Android']\n",
    "resolution = ['1334×750', '1920×1080', '2560×1440', '1280×840', '1184×720', '854×480']\n",
    "size = [4, 4.7, 5.1, 5.5]"
   ]
  },
  {
   "cell_type": "code",
   "execution_count": 3,
   "metadata": {
    "collapsed": false
   },
   "outputs": [],
   "source": [
    "# The mock data may not be perfect but you get the idea...\n",
    "def gen_data():\n",
    "    de = []\n",
    "    sc = []\n",
    "    sz = []\n",
    "    w = []\n",
    "    h = []\n",
    "    for i in range(2000):\n",
    "        this_de = random.choice(device)\n",
    "        this_sz = random.choice(size[:2]) if this_de == 'iPhone' else random.choice(size[2:])\n",
    "        \n",
    "        if this_sz == 4.7 and this_de == 'iPhone':\n",
    "            this_sc = '1920×1080'\n",
    "            this_w = random.randint(300, 315)\n",
    "            this_h = random.randint(30, 35)\n",
    "        elif this_sz == 4 and this_de == 'iPhone':\n",
    "            this_sc = '1334×750'\n",
    "            this_w = random.randint(290, 300)\n",
    "            this_h = random.randint(33, 38)\n",
    "            \n",
    "        if this_sz == 5.1 and this_de =='Android':\n",
    "            this_sc = random.choice(resolution[:3])\n",
    "            this_w = random.randint(320, 330)\n",
    "            this_h = random.randint(40, 45)\n",
    "        elif this_sz == 5.5 and this_de =='Android':\n",
    "            this_sc = random.choice(resolution[:3])\n",
    "            this_w = random.randint(330, 350)\n",
    "            this_h = random.randint(42, 47)\n",
    "            \n",
    "        de.append(this_de)\n",
    "        sc.append(this_sc)\n",
    "        sz.append(this_sz)\n",
    "        w.append(this_w)\n",
    "        h.append(this_h)\n",
    "    return np.array(de), np.array(sc), np.array(sz), np.array(w), np.array(h)"
   ]
  },
  {
   "cell_type": "code",
   "execution_count": 4,
   "metadata": {
    "collapsed": false
   },
   "outputs": [],
   "source": [
    "de, sc, sz, width, height = gen_data()"
   ]
  },
  {
   "cell_type": "code",
   "execution_count": 5,
   "metadata": {
    "collapsed": false
   },
   "outputs": [
    {
     "data": {
      "text/plain": [
       "array(['Android', 'Android', 'iPhone', 'iPhone', 'iPhone', 'Android',\n",
       "       'Android', 'Android', 'Android', 'Android', 'iPhone', 'Android',\n",
       "       'Android', 'Android', 'iPhone', 'iPhone', 'Android', 'Android',\n",
       "       'iPhone', 'Android'], \n",
       "      dtype='<U7')"
      ]
     },
     "execution_count": 5,
     "metadata": {},
     "output_type": "execute_result"
    }
   ],
   "source": [
    "# Just have a quick look...\n",
    "de[:20]"
   ]
  },
  {
   "cell_type": "code",
   "execution_count": 6,
   "metadata": {
    "collapsed": false
   },
   "outputs": [
    {
     "data": {
      "text/plain": [
       "(2000,)"
      ]
     },
     "execution_count": 6,
     "metadata": {},
     "output_type": "execute_result"
    }
   ],
   "source": [
    "# How many samples we have now? We can check one column\n",
    "width.shape "
   ]
  },
  {
   "cell_type": "code",
   "execution_count": 7,
   "metadata": {
    "collapsed": false
   },
   "outputs": [
    {
     "data": {
      "text/html": [
       "<div>\n",
       "<table border=\"1\" class=\"dataframe\">\n",
       "  <thead>\n",
       "    <tr style=\"text-align: right;\">\n",
       "      <th></th>\n",
       "      <th>device</th>\n",
       "      <th>height</th>\n",
       "      <th>screen</th>\n",
       "      <th>size</th>\n",
       "      <th>width</th>\n",
       "    </tr>\n",
       "  </thead>\n",
       "  <tbody>\n",
       "    <tr>\n",
       "      <th>0</th>\n",
       "      <td>Android</td>\n",
       "      <td>45</td>\n",
       "      <td>1920×1080</td>\n",
       "      <td>5.1</td>\n",
       "      <td>329</td>\n",
       "    </tr>\n",
       "    <tr>\n",
       "      <th>1</th>\n",
       "      <td>Android</td>\n",
       "      <td>42</td>\n",
       "      <td>2560×1440</td>\n",
       "      <td>5.5</td>\n",
       "      <td>341</td>\n",
       "    </tr>\n",
       "    <tr>\n",
       "      <th>2</th>\n",
       "      <td>iPhone</td>\n",
       "      <td>33</td>\n",
       "      <td>1334×750</td>\n",
       "      <td>4.0</td>\n",
       "      <td>297</td>\n",
       "    </tr>\n",
       "    <tr>\n",
       "      <th>3</th>\n",
       "      <td>iPhone</td>\n",
       "      <td>34</td>\n",
       "      <td>1334×750</td>\n",
       "      <td>4.0</td>\n",
       "      <td>295</td>\n",
       "    </tr>\n",
       "    <tr>\n",
       "      <th>4</th>\n",
       "      <td>iPhone</td>\n",
       "      <td>30</td>\n",
       "      <td>1920×1080</td>\n",
       "      <td>4.7</td>\n",
       "      <td>312</td>\n",
       "    </tr>\n",
       "    <tr>\n",
       "      <th>5</th>\n",
       "      <td>Android</td>\n",
       "      <td>45</td>\n",
       "      <td>2560×1440</td>\n",
       "      <td>5.5</td>\n",
       "      <td>346</td>\n",
       "    </tr>\n",
       "    <tr>\n",
       "      <th>6</th>\n",
       "      <td>Android</td>\n",
       "      <td>44</td>\n",
       "      <td>1334×750</td>\n",
       "      <td>5.5</td>\n",
       "      <td>347</td>\n",
       "    </tr>\n",
       "    <tr>\n",
       "      <th>7</th>\n",
       "      <td>Android</td>\n",
       "      <td>46</td>\n",
       "      <td>1334×750</td>\n",
       "      <td>5.5</td>\n",
       "      <td>345</td>\n",
       "    </tr>\n",
       "    <tr>\n",
       "      <th>8</th>\n",
       "      <td>Android</td>\n",
       "      <td>44</td>\n",
       "      <td>2560×1440</td>\n",
       "      <td>5.5</td>\n",
       "      <td>344</td>\n",
       "    </tr>\n",
       "    <tr>\n",
       "      <th>9</th>\n",
       "      <td>Android</td>\n",
       "      <td>42</td>\n",
       "      <td>2560×1440</td>\n",
       "      <td>5.5</td>\n",
       "      <td>349</td>\n",
       "    </tr>\n",
       "  </tbody>\n",
       "</table>\n",
       "</div>"
      ],
      "text/plain": [
       "    device  height     screen  size  width\n",
       "0  Android      45  1920×1080   5.1    329\n",
       "1  Android      42  2560×1440   5.5    341\n",
       "2   iPhone      33   1334×750   4.0    297\n",
       "3   iPhone      34   1334×750   4.0    295\n",
       "4   iPhone      30  1920×1080   4.7    312\n",
       "5  Android      45  2560×1440   5.5    346\n",
       "6  Android      44   1334×750   5.5    347\n",
       "7  Android      46   1334×750   5.5    345\n",
       "8  Android      44  2560×1440   5.5    344\n",
       "9  Android      42  2560×1440   5.5    349"
      ]
     },
     "execution_count": 7,
     "metadata": {},
     "output_type": "execute_result"
    }
   ],
   "source": [
    "# What is our data looks like?\n",
    "df = pd.DataFrame(data={'width': width, 'height': height, 'device': de, 'screen': sc, 'size': sz})\n",
    "df.head(10)"
   ]
  },
  {
   "cell_type": "code",
   "execution_count": 8,
   "metadata": {
    "collapsed": false
   },
   "outputs": [
    {
     "data": {
      "text/plain": [
       "Index(['device', 'height', 'screen', 'size', 'width'], dtype='object')"
      ]
     },
     "execution_count": 8,
     "metadata": {},
     "output_type": "execute_result"
    }
   ],
   "source": [
    "df.columns"
   ]
  },
  {
   "cell_type": "markdown",
   "metadata": {},
   "source": [
    "## However, you cannot have string values in a ML algorithm (most cases...)"
   ]
  },
  {
   "cell_type": "code",
   "execution_count": 9,
   "metadata": {
    "collapsed": false
   },
   "outputs": [
    {
     "data": {
      "text/html": [
       "<div>\n",
       "<table border=\"1\" class=\"dataframe\">\n",
       "  <thead>\n",
       "    <tr style=\"text-align: right;\">\n",
       "      <th></th>\n",
       "      <th>device</th>\n",
       "      <th>height</th>\n",
       "      <th>screen</th>\n",
       "      <th>size</th>\n",
       "      <th>width</th>\n",
       "    </tr>\n",
       "  </thead>\n",
       "  <tbody>\n",
       "    <tr>\n",
       "      <th>0</th>\n",
       "      <td>Android</td>\n",
       "      <td>45</td>\n",
       "      <td>1920×1080</td>\n",
       "      <td>5.1</td>\n",
       "      <td>329</td>\n",
       "    </tr>\n",
       "    <tr>\n",
       "      <th>1</th>\n",
       "      <td>Android</td>\n",
       "      <td>42</td>\n",
       "      <td>2560×1440</td>\n",
       "      <td>5.5</td>\n",
       "      <td>341</td>\n",
       "    </tr>\n",
       "    <tr>\n",
       "      <th>2</th>\n",
       "      <td>iPhone</td>\n",
       "      <td>33</td>\n",
       "      <td>1334×750</td>\n",
       "      <td>4.0</td>\n",
       "      <td>297</td>\n",
       "    </tr>\n",
       "    <tr>\n",
       "      <th>3</th>\n",
       "      <td>iPhone</td>\n",
       "      <td>34</td>\n",
       "      <td>1334×750</td>\n",
       "      <td>4.0</td>\n",
       "      <td>295</td>\n",
       "    </tr>\n",
       "    <tr>\n",
       "      <th>4</th>\n",
       "      <td>iPhone</td>\n",
       "      <td>30</td>\n",
       "      <td>1920×1080</td>\n",
       "      <td>4.7</td>\n",
       "      <td>312</td>\n",
       "    </tr>\n",
       "    <tr>\n",
       "      <th>5</th>\n",
       "      <td>Android</td>\n",
       "      <td>45</td>\n",
       "      <td>2560×1440</td>\n",
       "      <td>5.5</td>\n",
       "      <td>346</td>\n",
       "    </tr>\n",
       "    <tr>\n",
       "      <th>6</th>\n",
       "      <td>Android</td>\n",
       "      <td>44</td>\n",
       "      <td>1334×750</td>\n",
       "      <td>5.5</td>\n",
       "      <td>347</td>\n",
       "    </tr>\n",
       "    <tr>\n",
       "      <th>7</th>\n",
       "      <td>Android</td>\n",
       "      <td>46</td>\n",
       "      <td>1334×750</td>\n",
       "      <td>5.5</td>\n",
       "      <td>345</td>\n",
       "    </tr>\n",
       "  </tbody>\n",
       "</table>\n",
       "</div>"
      ],
      "text/plain": [
       "    device  height     screen  size  width\n",
       "0  Android      45  1920×1080   5.1    329\n",
       "1  Android      42  2560×1440   5.5    341\n",
       "2   iPhone      33   1334×750   4.0    297\n",
       "3   iPhone      34   1334×750   4.0    295\n",
       "4   iPhone      30  1920×1080   4.7    312\n",
       "5  Android      45  2560×1440   5.5    346\n",
       "6  Android      44   1334×750   5.5    347\n",
       "7  Android      46   1334×750   5.5    345"
      ]
     },
     "execution_count": 9,
     "metadata": {},
     "output_type": "execute_result"
    }
   ],
   "source": [
    "enc = preprocessing.LabelEncoder()\n",
    "df.head(8)"
   ]
  },
  {
   "cell_type": "code",
   "execution_count": 10,
   "metadata": {
    "collapsed": false
   },
   "outputs": [],
   "source": [
    "df['device'] = enc.fit_transform(df['device'])\n",
    "df['screen'] = enc.fit_transform(df['device'])\n",
    "# df['size'] = enc.fit_transform(df['size'])"
   ]
  },
  {
   "cell_type": "code",
   "execution_count": 11,
   "metadata": {
    "collapsed": false
   },
   "outputs": [
    {
     "data": {
      "text/html": [
       "<div>\n",
       "<table border=\"1\" class=\"dataframe\">\n",
       "  <thead>\n",
       "    <tr style=\"text-align: right;\">\n",
       "      <th></th>\n",
       "      <th>device</th>\n",
       "      <th>height</th>\n",
       "      <th>screen</th>\n",
       "      <th>size</th>\n",
       "      <th>width</th>\n",
       "    </tr>\n",
       "  </thead>\n",
       "  <tbody>\n",
       "    <tr>\n",
       "      <th>0</th>\n",
       "      <td>0</td>\n",
       "      <td>45</td>\n",
       "      <td>0</td>\n",
       "      <td>5.1</td>\n",
       "      <td>329</td>\n",
       "    </tr>\n",
       "    <tr>\n",
       "      <th>1</th>\n",
       "      <td>0</td>\n",
       "      <td>42</td>\n",
       "      <td>0</td>\n",
       "      <td>5.5</td>\n",
       "      <td>341</td>\n",
       "    </tr>\n",
       "    <tr>\n",
       "      <th>2</th>\n",
       "      <td>1</td>\n",
       "      <td>33</td>\n",
       "      <td>1</td>\n",
       "      <td>4.0</td>\n",
       "      <td>297</td>\n",
       "    </tr>\n",
       "    <tr>\n",
       "      <th>3</th>\n",
       "      <td>1</td>\n",
       "      <td>34</td>\n",
       "      <td>1</td>\n",
       "      <td>4.0</td>\n",
       "      <td>295</td>\n",
       "    </tr>\n",
       "    <tr>\n",
       "      <th>4</th>\n",
       "      <td>1</td>\n",
       "      <td>30</td>\n",
       "      <td>1</td>\n",
       "      <td>4.7</td>\n",
       "      <td>312</td>\n",
       "    </tr>\n",
       "    <tr>\n",
       "      <th>5</th>\n",
       "      <td>0</td>\n",
       "      <td>45</td>\n",
       "      <td>0</td>\n",
       "      <td>5.5</td>\n",
       "      <td>346</td>\n",
       "    </tr>\n",
       "    <tr>\n",
       "      <th>6</th>\n",
       "      <td>0</td>\n",
       "      <td>44</td>\n",
       "      <td>0</td>\n",
       "      <td>5.5</td>\n",
       "      <td>347</td>\n",
       "    </tr>\n",
       "    <tr>\n",
       "      <th>7</th>\n",
       "      <td>0</td>\n",
       "      <td>46</td>\n",
       "      <td>0</td>\n",
       "      <td>5.5</td>\n",
       "      <td>345</td>\n",
       "    </tr>\n",
       "  </tbody>\n",
       "</table>\n",
       "</div>"
      ],
      "text/plain": [
       "   device  height  screen  size  width\n",
       "0       0      45       0   5.1    329\n",
       "1       0      42       0   5.5    341\n",
       "2       1      33       1   4.0    297\n",
       "3       1      34       1   4.0    295\n",
       "4       1      30       1   4.7    312\n",
       "5       0      45       0   5.5    346\n",
       "6       0      44       0   5.5    347\n",
       "7       0      46       0   5.5    345"
      ]
     },
     "execution_count": 11,
     "metadata": {},
     "output_type": "execute_result"
    }
   ],
   "source": [
    "df.head(8)"
   ]
  },
  {
   "cell_type": "code",
   "execution_count": 12,
   "metadata": {
    "collapsed": false
   },
   "outputs": [],
   "source": [
    "def train_test_spliter(df, random_seed=0, test_size=0.15, n_splits=1):\n",
    "    # df = preprocessing.maxabs_scale(df, axis=0, copy=True)\n",
    "    col = df.columns\n",
    "    df1 = pd.DataFrame(data=df, columns=col)\n",
    "    rs = ShuffleSplit(n_splits=n_splits, test_size=test_size, random_state=random_seed)\n",
    "    for train_index, test_index in rs.split(df):\n",
    "        pass\n",
    "    traindf = pd.DataFrame(data=df, index=train_index)\n",
    "    testdf = pd.DataFrame(data=df, index=test_index)\n",
    "    return traindf, testdf\n",
    "\n",
    "traindf, testdf = train_test_spliter(df)"
   ]
  },
  {
   "cell_type": "markdown",
   "metadata": {},
   "source": [
    "## Also, some preprocessing (normalization) is needed..."
   ]
  },
  {
   "cell_type": "code",
   "execution_count": 13,
   "metadata": {
    "collapsed": true
   },
   "outputs": [],
   "source": [
    "X_train = pd.DataFrame(data=traindf, columns=['device', 'screen', 'size'])\n",
    "X_train = preprocessing.maxabs_scale(X_train, axis=0, copy=True)\n",
    "X_test = pd.DataFrame(data=testdf, columns=['device', 'screen', 'size'])\n",
    "X_test = preprocessing.maxabs_scale(X_test, axis=0, copy=True)\n",
    "\n",
    "y_train = pd.DataFrame(data=traindf, columns=['height', 'width'])\n",
    "y_test = pd.DataFrame(data=testdf, columns=['height', 'width'])"
   ]
  },
  {
   "cell_type": "markdown",
   "metadata": {},
   "source": [
    "## Define some helpers"
   ]
  },
  {
   "cell_type": "code",
   "execution_count": 14,
   "metadata": {
    "collapsed": false
   },
   "outputs": [],
   "source": [
    "def apply_method(X_train, y_train, X_test, y_test, method, regressor, target):\n",
    "    reg = regressor()\n",
    "    reg.fit(X_train, y_train[target])\n",
    "    pred = reg.predict(X_test)\n",
    "    result = mean_squared_error(y_test[target], pred)\n",
    "    if method == 'Regression Tree':\n",
    "        global prediction, raw_data\n",
    "        prediction = pred\n",
    "        raw_data = np.array(y_train[target])\n",
    "    # print(np.array(y_train[target]), pred)\n",
    "    return method, target, result\n",
    "\n",
    "def apply_method_multi(X_train, y_train, X_test, y_test, method, regressor):\n",
    "    reg = regressor()\n",
    "    reg.fit(X_train, y_train)\n",
    "    pred = reg.predict(X_test)\n",
    "    result = mean_squared_error(y_test, pred)\n",
    "    return method, result"
   ]
  },
  {
   "cell_type": "markdown",
   "metadata": {},
   "source": [
    "## Let's see the results from single-target learning algorithms"
   ]
  },
  {
   "cell_type": "code",
   "execution_count": 15,
   "metadata": {
    "collapsed": false
   },
   "outputs": [
    {
     "name": "stderr",
     "output_type": "stream",
     "text": [
      "/Users/Kulbear/anaconda/lib/python3.5/site-packages/sklearn/neural_network/multilayer_perceptron.py:563: ConvergenceWarning: Stochastic Optimizer: Maximum iterations reached and the optimization hasn't converged yet.\n",
      "  % (), ConvergenceWarning)\n",
      "/Users/Kulbear/anaconda/lib/python3.5/site-packages/sklearn/neural_network/multilayer_perceptron.py:563: ConvergenceWarning: Stochastic Optimizer: Maximum iterations reached and the optimization hasn't converged yet.\n",
      "  % (), ConvergenceWarning)\n"
     ]
    }
   ],
   "source": [
    "methods = {'Linear Regression': linear_model.LinearRegression, \n",
    "           'Support Vector Regression': svm.SVR, \n",
    "           'Regression Tree': tree.DecisionTreeRegressor, \n",
    "           'Random Forest': RandomForestRegressor, \n",
    "           'Gradient Boosting': GradientBoostingRegressor, \n",
    "           'Neural Network Multi-layer Perceptron': MLPRegressor}\n",
    "targets = ['height', 'width']\n",
    "\n",
    "\n",
    "result = []\n",
    "for ct in targets:\n",
    "    for name in methods:\n",
    "        try:\n",
    "            result.append(apply_method(X_train, y_train, X_test, y_test, name, methods[name], ct))\n",
    "        except:\n",
    "            pass"
   ]
  },
  {
   "cell_type": "code",
   "execution_count": 16,
   "metadata": {
    "collapsed": false
   },
   "outputs": [
    {
     "name": "stdout",
     "output_type": "stream",
     "text": [
      "Method                                 Target         Error\n",
      "-------------------------------------  --------  ----------\n",
      "Gradient Boosting                      height       3.15684\n",
      "Support Vector Regression              height       4.6879\n",
      "Linear Regression                      height       4.746\n",
      "Random Forest                          height       3.15915\n",
      "Neural Network Multi-layer Perceptron  height       7.55303\n",
      "Regression Tree                        height       3.15677\n",
      "Gradient Boosting                      width       19.4181\n",
      "Support Vector Regression              width       45.9378\n",
      "Linear Regression                      width       23.8086\n",
      "Random Forest                          width       19.3449\n",
      "Neural Network Multi-layer Perceptron  width     3546.9\n",
      "Regression Tree                        width       19.4187\n"
     ]
    }
   ],
   "source": [
    "print(tabulate(result, headers=['Method', 'Target', 'Error']))"
   ]
  },
  {
   "cell_type": "markdown",
   "metadata": {},
   "source": [
    "## And then, multi-target learning..."
   ]
  },
  {
   "cell_type": "code",
   "execution_count": 17,
   "metadata": {
    "collapsed": false
   },
   "outputs": [
    {
     "name": "stderr",
     "output_type": "stream",
     "text": [
      "/Users/Kulbear/anaconda/lib/python3.5/site-packages/sklearn/neural_network/multilayer_perceptron.py:563: ConvergenceWarning: Stochastic Optimizer: Maximum iterations reached and the optimization hasn't converged yet.\n",
      "  % (), ConvergenceWarning)\n"
     ]
    }
   ],
   "source": [
    "result = []\n",
    "\n",
    "for name in methods:\n",
    "    try:\n",
    "        result.append(apply_method_multi(X_train, y_train, X_test, y_test, name, methods[name]))\n",
    "    except:\n",
    "        pass"
   ]
  },
  {
   "cell_type": "code",
   "execution_count": 18,
   "metadata": {
    "collapsed": false
   },
   "outputs": [
    {
     "name": "stdout",
     "output_type": "stream",
     "text": [
      "Method                                     Error\n",
      "-------------------------------------  ---------\n",
      "Linear Regression                        14.2773\n",
      "Random Forest                            11.2798\n",
      "Neural Network Multi-layer Perceptron  1432.49\n",
      "Regression Tree                          11.2877\n"
     ]
    }
   ],
   "source": [
    "print(tabulate(result, headers=['Method', 'Error']))"
   ]
  },
  {
   "cell_type": "code",
   "execution_count": 19,
   "metadata": {
    "collapsed": false
   },
   "outputs": [
    {
     "data": {
      "text/plain": [
       "array([ 307.4088785 ,  295.20472441,  307.4088785 ,  307.4088785 ,\n",
       "        295.20472441,  340.03539823,  295.20472441,  340.03539823,\n",
       "        324.88154897,  307.4088785 ])"
      ]
     },
     "execution_count": 19,
     "metadata": {},
     "output_type": "execute_result"
    }
   ],
   "source": [
    "prediction[:10]"
   ]
  },
  {
   "cell_type": "code",
   "execution_count": 20,
   "metadata": {
    "collapsed": false
   },
   "outputs": [
    {
     "data": {
      "text/plain": [
       "array([322, 300, 304, 338, 329, 299, 293, 332, 328, 321])"
      ]
     },
     "execution_count": 20,
     "metadata": {},
     "output_type": "execute_result"
    }
   ],
   "source": [
    "raw_data[:10]"
   ]
  },
  {
   "cell_type": "markdown",
   "metadata": {},
   "source": [
    "## Not good result? Discuss..."
   ]
  },
  {
   "cell_type": "markdown",
   "metadata": {},
   "source": [
    "#### Possible Issue\n",
    "\n",
    "- Need more features\n",
    "- Sample size?\n",
    "- Adjust params for our model training process...\n",
    "- Normally distributed data?\n",
    "- ... A lot to discover!"
   ]
  },
  {
   "cell_type": "code",
   "execution_count": null,
   "metadata": {
    "collapsed": true
   },
   "outputs": [],
   "source": []
  }
 ],
 "metadata": {
  "anaconda-cloud": {},
  "kernelspec": {
   "display_name": "Python [conda root]",
   "language": "python",
   "name": "conda-root-py"
  },
  "language_info": {
   "codemirror_mode": {
    "name": "ipython",
    "version": 3
   },
   "file_extension": ".py",
   "mimetype": "text/x-python",
   "name": "python",
   "nbconvert_exporter": "python",
   "pygments_lexer": "ipython3",
   "version": "3.5.2"
  }
 },
 "nbformat": 4,
 "nbformat_minor": 1
}
